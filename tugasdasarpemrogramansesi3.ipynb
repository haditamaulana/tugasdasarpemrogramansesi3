{
 "cells": [
  {
   "cell_type": "code",
   "execution_count": 9,
   "id": "ff1db951",
   "metadata": {},
   "outputs": [
    {
     "name": "stdout",
     "output_type": "stream",
     "text": [
      "nama lengkap : hadita maulana\n",
      "kelas : TI22E\n",
      "jurusan : teknik informatika\n",
      "usia : 17\n",
      "alamat : surade\n",
      "kata mutiara : no system is safe\n"
     ]
    }
   ],
   "source": [
    "#biodata pribadi\n",
    "\n",
    "nama_lengkap = \"hadita maulana\"\n",
    "kelas = \"TI22E\"\n",
    "jurusan = \"teknik informatika\"\n",
    "usia = \"17\"\n",
    "alamat = \"surade\"\n",
    "kata_mutiara = \"no system is safe\"\n",
    "\n",
    "print(\"nama lengkap :\", nama_lengkap)\n",
    "print(\"kelas :\", kelas)\n",
    "print(\"jurusan :\", jurusan)\n",
    "print(\"usia :\", usia)\n",
    "print(\"alamat :\", alamat)\n",
    "print(\"kata mutiara :\", kata_mutiara)"
   ]
  }
 ],
 "metadata": {
  "kernelspec": {
   "display_name": "Python 3 (ipykernel)",
   "language": "python",
   "name": "python3"
  },
  "language_info": {
   "codemirror_mode": {
    "name": "ipython",
    "version": 3
   },
   "file_extension": ".py",
   "mimetype": "text/x-python",
   "name": "python",
   "nbconvert_exporter": "python",
   "pygments_lexer": "ipython3",
   "version": "3.10.2"
  }
 },
 "nbformat": 4,
 "nbformat_minor": 5
}
